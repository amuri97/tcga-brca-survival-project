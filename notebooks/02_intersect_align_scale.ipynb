{
 "cells": [
  {
   "cell_type": "markdown",
   "id": "1ce49621-6422-4c21-a14c-15d3d3222702",
   "metadata": {},
   "source": [
    "# 02 - Intersect, Align, and Scale (TCGA ↔ METABRIC)\n",
    "\n",
    "**Goal:** Put TCGA (logCPM) and METABRIC (microarray) on the **same gene space** and a **comparable scale** for cross-cohort modeling.  \n",
    "**Inputs:**  \n",
    "- `data_proc/tcga_expr_logcpm.parquet`  \n",
    "- `data_proc/tcga_labels.tsv`  \n",
    "- `data_proc/metabric_expr_raw.parquet`   \n",
    "- `data_proc/metabric_labels.tsv`\n",
    "\n",
    "**Outputs (to be created):**  \n",
    "- `data_proc/aligned/tcga_expr_aligned.parquet`  \n",
    "- `data_proc/aligned/metabric_expr_aligned.parquet`  \n",
    "- `data_proc/aligned/scaler_tcga_stats.json` (if z-scoring)  \n",
    "- `data_proc/aligned/tcga_expr_z.parquet`, `data_proc/aligned/metabric_expr_z.parquet` (when we scale)\n",
    "\n",
    "**Provenance:** Conda env `tcga-brca-survival-project` | Date: <fill> | Author: <`Amith Murikinati`>"
   ]
  },
  {
   "cell_type": "code",
   "execution_count": 3,
   "id": "1e1b3eb6-588d-41c7-99d9-51c28d982b04",
   "metadata": {},
   "outputs": [
    {
     "name": "stdout",
     "output_type": "stream",
     "text": [
      "Python: 3.11.13\n",
      "Pandas: 2.3.2\n",
      "NumPy: 2.3.3\n"
     ]
    }
   ],
   "source": [
    "#core\n",
    "import os, json, sys, math, time, gc\n",
    "from pathlib import Path\n",
    "\n",
    "#data stack\n",
    "import numpy as np\n",
    "import pandas as pd\n",
    "\n",
    "# display options (clean tables)\n",
    "pd.set_option(\"display.width\", 160)\n",
    "pd.set_option(\"display.max_columns\", 50)\n",
    "\n",
    "# reproducibility (used later for splits/models)\n",
    "SEED = 42\n",
    "rng = np.random.default_rng(SEED)\n",
    "\n",
    "print(\"Python:\", sys.version.split()[0])\n",
    "print(\"Pandas:\", pd.__version__)\n",
    "print(\"NumPy:\", np.__version__)"
   ]
  },
  {
   "cell_type": "code",
   "execution_count": 4,
   "id": "235461bb-7365-4269-82cd-b9bf8278cdae",
   "metadata": {},
   "outputs": [
    {
     "name": "stdout",
     "output_type": "stream",
     "text": [
      "Repo: C:\\Users\\mailt\\Desktop\\DSprojects2025\\tcga-brca-survival-project\n",
      "Exists TCGA X?: True\n",
      "Exists TCGA Y?: True\n",
      "Exists METABRIC X?: True -> metabric_expr_raw.parquet\n",
      "Exists METABRIC Y?: True\n",
      "Aligned out dir: C:\\Users\\mailt\\Desktop\\DSprojects2025\\tcga-brca-survival-project\\data_proc\\aligned\n"
     ]
    }
   ],
   "source": [
    "# paths relative to repo root\n",
    "REPO = Path.cwd().parent if Path.cwd().name == \"notebooks\" else Path.cwd()\n",
    "DATA_PROC = REPO / \"data_proc\"\n",
    "ALIGNED = DATA_PROC / \"aligned\"\n",
    "ALIGNED.mkdir(parents=True, exist_ok=True)\n",
    "\n",
    "# expected inputs\n",
    "P_TCGA_X = DATA_PROC / \"tcga_expr_logcpm.parquet\"\n",
    "P_TCGA_Y = DATA_PROC / \"tcga_labels.tsv\"\n",
    "\n",
    "# you may have 'metabric_expr_raw.parquet' -we pick whichever exists\n",
    "P_MB_X = DATA_PROC / \"metabric_expr_raw.parquet\"\n",
    "P_MB_Y = DATA_PROC / \"metabric_labels.tsv\"\n",
    "\n",
    "print(\"Repo:\", REPO)\n",
    "print(\"Exists TCGA X?:\", P_TCGA_X.exists())\n",
    "print(\"Exists TCGA Y?:\", P_TCGA_Y.exists())\n",
    "print(\"Exists METABRIC X?:\", P_MB_X.exists(), \"->\", P_MB_X.name)\n",
    "print(\"Exists METABRIC Y?:\", P_MB_Y.exists())\n",
    "print(\"Aligned out dir:\", ALIGNED)"
   ]
  },
  {
   "cell_type": "code",
   "execution_count": 7,
   "id": "c0b1514a-508a-49b5-b6b4-943b8689b156",
   "metadata": {},
   "outputs": [
    {
     "name": "stdout",
     "output_type": "stream",
     "text": [
      "TCGA labels: (1094, 3) | cols: ['SAMPLE_ID', 'os_event', 'os_time_months']\n",
      "MB labels: (1980, 4) | cols: ['SAMPLE_ID', 'PATIENT_ID', 'os_event', 'os_time_months']\n",
      "TCGA X: (59427, 1094) [dtype('float32'), dtype('float32'), dtype('float32')]\n",
      "MB   X: (20385, 1980) [dtype('float32'), dtype('float32'), dtype('float32')]\n",
      "TCGA genes: 59427 | samples: 1094\n",
      "MB   genes: 20385 | samples: 1980\n"
     ]
    }
   ],
   "source": [
    "#load label tables (small)\n",
    "tcga_y = pd.read_csv(P_TCGA_Y, sep=\"\\t\")\n",
    "mb_y = pd.read_csv(P_MB_Y, sep=\"\\t\")\n",
    "print(\"TCGA labels:\", tcga_y.shape, \"| cols:\", tcga_y.columns.tolist())\n",
    "print(\"MB labels:\", mb_y.shape, \"| cols:\", mb_y.columns.tolist())\n",
    "\n",
    "# fast load: full matrices (OK for your machine); if memory is tight, we can switch to chunked\n",
    "tcga_X = pd.read_parquet(P_TCGA_X)\n",
    "mb_X   = pd.read_parquet(P_MB_X)\n",
    "\n",
    "print(\"TCGA X:\", tcga_X.shape, tcga_X.dtypes.iloc[:3].tolist())\n",
    "print(\"MB   X:\", mb_X.shape,   mb_X.dtypes.iloc[:3].tolist())\n",
    "\n",
    "# basic cross-checks (no action yet; just info)\n",
    "print(\"TCGA genes:\", tcga_X.index.nunique(), \"| samples:\", tcga_X.shape[1])\n",
    "print(\"MB   genes:\", mb_X.index.nunique(),   \"| samples:\", mb_X.shape[1])"
   ]
  },
  {
   "cell_type": "code",
   "execution_count": 8,
   "id": "d0c38764-6c2e-46d8-a73f-f6754e4e0b76",
   "metadata": {},
   "outputs": [
    {
     "name": "stdout",
     "output_type": "stream",
     "text": [
      "Config -> scaling=zscore, fit_on=TCGA, tag=v1\n"
     ]
    }
   ],
   "source": [
    "# parameters for the upcoming step (we won't execute the transform yet)\n",
    "SCALING_METHOD = \"zscore\"   # options later: \"zscore\" or \"qnz\" (quantile-normalize-to-TCGA + z)\n",
    "TRAIN_SOURCE   = \"TCGA\"     # fit stats on TCGA, apply to METABRIC\n",
    "SAVE_TAG       = \"v1\"       # bump when iterating\n",
    "\n",
    "print(f\"Config -> scaling={SCALING_METHOD}, fit_on={TRAIN_SOURCE}, tag={SAVE_TAG}\")"
   ]
  },
  {
   "cell_type": "code",
   "execution_count": null,
   "id": "860afcc9-2f8d-4995-b162-65f08af513d3",
   "metadata": {},
   "outputs": [],
   "source": []
  }
 ],
 "metadata": {
  "kernelspec": {
   "display_name": "Python (tcga-brca-survival-project)",
   "language": "python",
   "name": "tcga-brca-survival-project"
  },
  "language_info": {
   "codemirror_mode": {
    "name": "ipython",
    "version": 3
   },
   "file_extension": ".py",
   "mimetype": "text/x-python",
   "name": "python",
   "nbconvert_exporter": "python",
   "pygments_lexer": "ipython3",
   "version": "3.11.13"
  }
 },
 "nbformat": 4,
 "nbformat_minor": 5
}
