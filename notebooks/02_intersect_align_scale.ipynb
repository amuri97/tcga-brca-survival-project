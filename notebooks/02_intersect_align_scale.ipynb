{
 "cells": [
  {
   "cell_type": "markdown",
   "id": "1ce49621-6422-4c21-a14c-15d3d3222702",
   "metadata": {},
   "source": [
    "# 02 - Intersect, Align, and Scale (TCGA ↔ METABRIC)\n",
    "\n",
    "**Goal:** Put TCGA (logCPM) and METABRIC (microarray) on the **same gene space** and a **comparable scale** for cross-cohort modeling.  \n",
    "**Inputs:**  \n",
    "- `data_proc/tcga_expr_logcpm.parquet`  \n",
    "- `data_proc/tcga_labels.tsv`  \n",
    "- `data_proc/metabric_expr_raw.parquet`   \n",
    "- `data_proc/metabric_labels.tsv`\n",
    "\n",
    "**Outputs (to be created):**  \n",
    "- `data_proc/aligned/tcga_expr_aligned.parquet`  \n",
    "- `data_proc/aligned/metabric_expr_aligned.parquet`  \n",
    "- `data_proc/aligned/scaler_tcga_stats.json` (if z-scoring)  \n",
    "- `data_proc/aligned/tcga_expr_z.parquet`, `data_proc/aligned/metabric_expr_z.parquet` (when we scale)\n",
    "\n",
    "**Provenance:** Conda env `tcga-brca-survival-project` | Date: <fill> | Author: <`Amith Murikinati`>"
   ]
  },
  {
   "cell_type": "code",
   "execution_count": 1,
   "id": "1e1b3eb6-588d-41c7-99d9-51c28d982b04",
   "metadata": {},
   "outputs": [
    {
     "name": "stdout",
     "output_type": "stream",
     "text": [
      "Python: 3.11.13\n",
      "Pandas: 2.3.2\n",
      "NumPy: 2.3.3\n"
     ]
    }
   ],
   "source": [
    "#core\n",
    "import os, json, sys, math, time, gc\n",
    "from pathlib import Path\n",
    "\n",
    "#data stack\n",
    "import numpy as np\n",
    "import pandas as pd\n",
    "\n",
    "# display options (clean tables)\n",
    "pd.set_option(\"display.width\", 160)\n",
    "pd.set_option(\"display.max_columns\", 50)\n",
    "\n",
    "# reproducibility (used later for splits/models)\n",
    "SEED = 42\n",
    "rng = np.random.default_rng(SEED)\n",
    "\n",
    "print(\"Python:\", sys.version.split()[0])\n",
    "print(\"Pandas:\", pd.__version__)\n",
    "print(\"NumPy:\", np.__version__)"
   ]
  },
  {
   "cell_type": "code",
   "execution_count": 2,
   "id": "235461bb-7365-4269-82cd-b9bf8278cdae",
   "metadata": {},
   "outputs": [
    {
     "name": "stdout",
     "output_type": "stream",
     "text": [
      "Repo: C:\\Users\\mailt\\Desktop\\DSprojects2025\\tcga-brca-survival-project\n",
      "Exists TCGA X?: True\n",
      "Exists TCGA Y?: True\n",
      "Exists METABRIC X?: True -> metabric_expr_raw.parquet\n",
      "Exists METABRIC Y?: True\n",
      "Aligned out dir: C:\\Users\\mailt\\Desktop\\DSprojects2025\\tcga-brca-survival-project\\data_proc\\aligned\n"
     ]
    }
   ],
   "source": [
    "# paths relative to repo root\n",
    "REPO = Path.cwd().parent if Path.cwd().name == \"notebooks\" else Path.cwd()\n",
    "DATA_PROC = REPO / \"data_proc\"\n",
    "ALIGNED = DATA_PROC / \"aligned\"\n",
    "ALIGNED.mkdir(parents=True, exist_ok=True)\n",
    "\n",
    "# expected inputs\n",
    "P_TCGA_X = DATA_PROC / \"tcga_expr_logcpm.parquet\"\n",
    "P_TCGA_Y = DATA_PROC / \"tcga_labels.tsv\"\n",
    "\n",
    "# you may have 'metabric_expr_raw.parquet' -we pick whichever exists\n",
    "P_MB_X = DATA_PROC / \"metabric_expr_raw.parquet\"\n",
    "P_MB_Y = DATA_PROC / \"metabric_labels.tsv\"\n",
    "\n",
    "print(\"Repo:\", REPO)\n",
    "print(\"Exists TCGA X?:\", P_TCGA_X.exists())\n",
    "print(\"Exists TCGA Y?:\", P_TCGA_Y.exists())\n",
    "print(\"Exists METABRIC X?:\", P_MB_X.exists(), \"->\", P_MB_X.name)\n",
    "print(\"Exists METABRIC Y?:\", P_MB_Y.exists())\n",
    "print(\"Aligned out dir:\", ALIGNED)"
   ]
  },
  {
   "cell_type": "code",
   "execution_count": 3,
   "id": "c0b1514a-508a-49b5-b6b4-943b8689b156",
   "metadata": {},
   "outputs": [
    {
     "name": "stdout",
     "output_type": "stream",
     "text": [
      "TCGA labels: (1094, 3) | cols: ['SAMPLE_ID', 'os_event', 'os_time_months']\n",
      "MB labels: (1980, 4) | cols: ['SAMPLE_ID', 'PATIENT_ID', 'os_event', 'os_time_months']\n",
      "TCGA X: (59427, 1094) [dtype('float32'), dtype('float32'), dtype('float32')]\n",
      "MB   X: (20385, 1980) [dtype('float32'), dtype('float32'), dtype('float32')]\n",
      "TCGA genes: 59427 | samples: 1094\n",
      "MB   genes: 20385 | samples: 1980\n"
     ]
    }
   ],
   "source": [
    "#load label tables (small)\n",
    "tcga_y = pd.read_csv(P_TCGA_Y, sep=\"\\t\")\n",
    "mb_y = pd.read_csv(P_MB_Y, sep=\"\\t\")\n",
    "print(\"TCGA labels:\", tcga_y.shape, \"| cols:\", tcga_y.columns.tolist())\n",
    "print(\"MB labels:\", mb_y.shape, \"| cols:\", mb_y.columns.tolist())\n",
    "\n",
    "# fast load: full matrices (OK for your machine); if memory is tight, we can switch to chunked\n",
    "tcga_X = pd.read_parquet(P_TCGA_X)\n",
    "mb_X   = pd.read_parquet(P_MB_X)\n",
    "\n",
    "print(\"TCGA X:\", tcga_X.shape, tcga_X.dtypes.iloc[:3].tolist())\n",
    "print(\"MB   X:\", mb_X.shape,   mb_X.dtypes.iloc[:3].tolist())\n",
    "\n",
    "# basic cross-checks (no action yet; just info)\n",
    "print(\"TCGA genes:\", tcga_X.index.nunique(), \"| samples:\", tcga_X.shape[1])\n",
    "print(\"MB   genes:\", mb_X.index.nunique(),   \"| samples:\", mb_X.shape[1])"
   ]
  },
  {
   "cell_type": "code",
   "execution_count": 4,
   "id": "d0c38764-6c2e-46d8-a73f-f6754e4e0b76",
   "metadata": {},
   "outputs": [
    {
     "name": "stdout",
     "output_type": "stream",
     "text": [
      "Config -> scaling=zscore, fit_on=TCGA, tag=v1\n"
     ]
    }
   ],
   "source": [
    "# parameters for the upcoming step (we won't execute the transform yet)\n",
    "SCALING_METHOD = \"zscore\"   # options later: \"zscore\" or \"qnz\" (quantile-normalize-to-TCGA + z)\n",
    "TRAIN_SOURCE   = \"TCGA\"     # fit stats on TCGA, apply to METABRIC\n",
    "SAVE_TAG       = \"v1\"       # bump when iterating\n",
    "\n",
    "print(f\"Config -> scaling={SCALING_METHOD}, fit_on={TRAIN_SOURCE}, tag={SAVE_TAG}\")"
   ]
  },
  {
   "cell_type": "code",
   "execution_count": 8,
   "id": "860afcc9-2f8d-4995-b162-65f08af513d3",
   "metadata": {},
   "outputs": [],
   "source": [
    "#helper functions\n",
    "def get_common_genes(X_a: pd.DataFrame, X_b: pd.DataFrame):\n",
    "    \"\"\"Return sorted list of shared gene symbols (row index) between two matrices.\"\"\"\n",
    "    # ensure uppercase (defensive; your data should already be uppercase)\n",
    "    ga = pd.Index([str(x).upper() for x in X_a.index])\n",
    "    gb = pd.Index([str(x).upper() for x in X_b.index])\n",
    "\n",
    "    # enforce uniqueness (you collapsed duplicates earlier: assert here)\n",
    "    assert ga.is_unique and gb.is_unique, \"Gene index has duplicates-collapse first\"\n",
    "    inter = sorted(list(set(ga) & set(gb)))\n",
    "    return inter\n",
    "\n",
    "def align_by_genes(X: pd.DataFrame, genes: list):\n",
    "    \"\"\"Subset and reorder rows of X to 'genes' order.\"\"\"\n",
    "    missing = [g for g in genes if g not in X.index]\n",
    "    assert not missing, f\"{len(missing)} genes missing from matrix\"\n",
    "    return X.loc[genes]\n",
    "\n",
    "def fit_zstats(X_train: pd.DataFrame, eps: float = 1e-6):\n",
    "    \"\"\"Fit per-gene mean/std on training cohort (rows=genes); return (mean, std) as pd.Series.\"\"\"\n",
    "    mu = X_train.mean(axis=1)                   # per-gene mean across samples\n",
    "    std = X_train.std(axis=1, ddof=0).clip(eps)  # per-gene std, guard tiny std\n",
    "    return mu.astype(\"float32\"), std.astype(\"float32\")\n",
    "\n",
    "def apply_z(X: pd.DataFrame, mu: pd.Series, std: pd.Series):\n",
    "    \"\"\"Apply (X - mu)/std with index alignment.\"\"\"\n",
    "    # Ensure alignment by index (genes)\n",
    "    Xc = X.copy()\n",
    "    Xc = Xc.subtract(mu, axis=0).divide(std, axis=0)\n",
    "    return Xc.astype(\"float32\")"
   ]
  },
  {
   "cell_type": "code",
   "execution_count": 11,
   "id": "80532a49-4ef7-43b2-af98-a0129c7cedd5",
   "metadata": {},
   "outputs": [
    {
     "name": "stdout",
     "output_type": "stream",
     "text": [
      "Common genes: 19451\n",
      "Aligned shapes -> TCGA: (19451, 1094) | MB: (19451, 1980)\n",
      "Saved aligned -> tcga_expr_aligned.parquet , metabric_expr_aligned.parquet\n"
     ]
    }
   ],
   "source": [
    "# Intersect & Align (save aligned matrices)\n",
    "\n",
    "# 1) find common genes\n",
    "common_genes = get_common_genes(tcga_X, mb_X)\n",
    "print(\"Common genes:\", len(common_genes))\n",
    "assert len(common_genes) > 15000, \"Too few shared genes-check symbol casing or collapse step\"\n",
    "\n",
    "# 2) align both matrices to identical gene order\n",
    "tcga_Xa = align_by_genes(tcga_X, common_genes)\n",
    "mb_Xa = align_by_genes(mb_X, common_genes)\n",
    "\n",
    "print(\"Aligned shapes -> TCGA:\", tcga_Xa.shape, \"| MB:\", mb_Xa.shape)\n",
    "assert list(tcga_Xa.index) == list(mb_Xa.index), \"Gene order mismatch after alignment\"\n",
    "\n",
    "# 3) save aligned matrices\n",
    "P_TCGA_ALN = ALIGNED / \"tcga_expr_aligned.parquet\"\n",
    "P_MB_ALN = ALIGNED / \"metabric_expr_aligned.parquet\"\n",
    "tcga_Xa.to_parquet(P_TCGA_ALN, index=True)\n",
    "mb_Xa.to_parquet(P_MB_ALN, index=True)\n",
    "\n",
    "print(\"Saved aligned ->\", P_TCGA_ALN.name, \",\", P_MB_ALN.name)"
   ]
  },
  {
   "cell_type": "code",
   "execution_count": 12,
   "id": "3d8dabd9-9c37-40b6-a5d0-824c675bb705",
   "metadata": {},
   "outputs": [
    {
     "name": "stdout",
     "output_type": "stream",
     "text": [
      "Fitted z-stats on TCGA: (19451,) (19451,)\n",
      "Z-shapes -> TCGA: (19451, 1094) | MB: (19451, 1980)\n",
      "TCGA Z summary (mean±sd across all entries): -2.8086150294370782e-08 0.9972972869873047\n",
      "MB   Z summary (mean±sd across all entries): nan nan\n",
      "Saved scaler -> tcga_scaler_stats.tsv\n",
      "Saved Z-matrices -> tcga_expr_z_v1.parquet , metabric_expr_z_v1.parquet\n"
     ]
    }
   ],
   "source": [
    "# TCGA-fit z-scaling (save scaler + z-scored matrices)\n",
    "\n",
    "# 1) fit stats on TCGA (full TCGA for now; for CV we'll later fit on train folds)\n",
    "mu_tcga, sd_tcga = fit_zstats(tcga_Xa)\n",
    "print(\"Fitted z-stats on TCGA:\", mu_tcga.shape, sd_tcga.shape)\n",
    "\n",
    "# 2) apply to TCGA and METABRIC\n",
    "tcga_Z = apply_z(tcga_Xa, mu_tcga, sd_tcga)\n",
    "mb_Z = apply_z(mb_Xa, mu_tcga, sd_tcga)\n",
    "\n",
    "print(\"Z-shapes -> TCGA:\", tcga_Z.shape, \"| MB:\", mb_Z.shape)\n",
    "print(\"TCGA Z summary (mean±sd across all entries):\", float(tcga_Z.values.mean()), float(tcga_Z.values.std()))\n",
    "print(\"MB   Z summary (mean±sd across all entries):\", float(mb_Z.values.mean()), float(mb_Z.values.std()))\n",
    "\n",
    "# 3) save scaler stats (TSV) and z-matrices (Parquet)\n",
    "P_SCALER = ALIGNED / \"tcga_scaler_stats.tsv\"\n",
    "pd.DataFrame({\"SYMBOL\": tcga_Xa.index, \"mean\": mu_tcga.values, \"std\": sd_tcga.values}).to_csv(P_SCALER, sep=\"\\t\", index=False)\n",
    "\n",
    "P_TCGA_Z = ALIGNED / \"tcga_expr_z_v1.parquet\"\n",
    "P_MB_Z = ALIGNED / \"metabric_expr_z_v1.parquet\"\n",
    "tcga_Z.to_parquet(P_TCGA_Z, index=True)\n",
    "mb_Z.to_parquet(P_MB_Z, index=True)\n",
    "\n",
    "print(\"Saved scaler ->\", P_SCALER.name)\n",
    "print(\"Saved Z-matrices ->\", P_TCGA_Z.name, \",\", P_MB_Z.name)"
   ]
  },
  {
   "cell_type": "code",
   "execution_count": 13,
   "id": "9fe9b3f3-ce68-432a-ac4c-90562ddfb81d",
   "metadata": {},
   "outputs": [
    {
     "name": "stdout",
     "output_type": "stream",
     "text": [
      "Label alignment OK ✅  |  TCGA: (1094, 3)  MB: (1980, 4)\n"
     ]
    }
   ],
   "source": [
    "# Label alignment sanity(quick asserts; no saves)\n",
    "\n",
    "# TCGA labels order should already match columns; verify\n",
    "assert list(tcga_y[\"SAMPLE_ID\"]) == list(tcga_X.columns), \"TCGA labels not aligned to original X columns\"\n",
    "assert list(tcga_y[\"SAMPLE_ID\"]) == list(tcga_Xa.columns), \"TCGA labels not aligned after gene alignment\"\n",
    "assert list(tcga_y[\"SAMPLE_ID\"]) == list(tcga_Z.columns),  \"TCGA labels not aligned after z-scaling\"\n",
    "\n",
    "# METABRIC labels check\n",
    "assert list(mb_y[\"SAMPLE_ID\"]) == list(mb_X.columns), \"METABRIC labels not aligned to original X columns\"\n",
    "assert list(mb_y[\"SAMPLE_ID\"]) == list(mb_Xa.columns), \"METABRIC labels not aligned after gene alignment\"\n",
    "assert list(mb_y[\"SAMPLE_ID\"]) == list(mb_Z.columns),  \"METABRIC labels not aligned after z-scaling\"\n",
    "\n",
    "print(\"Label alignment OK ✅  |  TCGA:\", tcga_y.shape, \" MB:\", mb_y.shape)"
   ]
  },
  {
   "cell_type": "code",
   "execution_count": null,
   "id": "525498a9-5fc3-46c3-a318-985479e382ec",
   "metadata": {},
   "outputs": [],
   "source": []
  }
 ],
 "metadata": {
  "kernelspec": {
   "display_name": "Python (tcga-brca-survival-project)",
   "language": "python",
   "name": "tcga-brca-survival-project"
  },
  "language_info": {
   "codemirror_mode": {
    "name": "ipython",
    "version": 3
   },
   "file_extension": ".py",
   "mimetype": "text/x-python",
   "name": "python",
   "nbconvert_exporter": "python",
   "pygments_lexer": "ipython3",
   "version": "3.11.13"
  }
 },
 "nbformat": 4,
 "nbformat_minor": 5
}
